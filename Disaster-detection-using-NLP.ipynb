{
 "cells": [
  {
   "cell_type": "code",
   "execution_count": 381,
   "metadata": {},
   "outputs": [],
   "source": [
    "import re\n",
    "import pandas as pd\n",
    "\n",
    "import numpy as np\n",
    "import matplotlib.pyplot as plt\n",
    "import seaborn as sns\n",
    "import pickle\n",
    "import string\n",
    "\n",
    "from sklearn.feature_extraction.text import TfidfVectorizer\n",
    "from sklearn.feature_extraction.text import TfidfTransformer\n",
    "from sklearn.feature_extraction.text import CountVectorizer\n",
    "\n",
    "from sklearn.model_selection import learning_curve\n",
    "from sklearn.ensemble import RandomForestClassifier\n",
    "from sklearn.metrics import classification_report, confusion_matrix, accuracy_score\n",
    "from sklearn.model_selection import train_test_split\n",
    "from sklearn.model_selection import KFold\n",
    "\n",
    "import nltk\n",
    "from spellchecker import SpellChecker\n",
    "from nltk.stem import PorterStemmer\n",
    "from nltk.stem import WordNetLemmatizer\n",
    "\n",
    "from yellowbrick.text.freqdist import FreqDistVisualizer \n",
    "\n",
    "%matplotlib inline\n",
    "pd.set_option('display.max_colwidth', 200)"
   ]
  },
  {
   "cell_type": "code",
   "execution_count": 382,
   "metadata": {},
   "outputs": [],
   "source": [
    "#!pip install pyspellchecker"
   ]
  },
  {
   "cell_type": "code",
   "execution_count": 383,
   "metadata": {},
   "outputs": [],
   "source": [
    "# dataset is taken from Kaggle\n",
    "df_tweet = pd.read_csv('./dataset/train.csv')\n",
    "\n",
    "# Note: this df does not have the target column\n",
    "df_test = pd.read_csv('./dataset/test.csv')"
   ]
  },
  {
   "cell_type": "code",
   "execution_count": 384,
   "metadata": {},
   "outputs": [
    {
     "name": "stdout",
     "output_type": "stream",
     "text": [
      "There are 7613 rows and 5 columns in the training dataset\n",
      "There are 3267 rows and 4 columns in the testing dataset\n"
     ]
    }
   ],
   "source": [
    "print('There are {} rows and {} columns in the training dataset'.\n",
    "      format(df_tweet.shape[0],df_tweet.shape[1]))\n",
    "\n",
    "print('There are {} rows and {} columns in the testing dataset'.\n",
    "      format(df_test.shape[0],df_test.shape[1]))"
   ]
  },
  {
   "cell_type": "code",
   "execution_count": 385,
   "metadata": {},
   "outputs": [
    {
     "data": {
      "text/html": [
       "<div>\n",
       "<style scoped>\n",
       "    .dataframe tbody tr th:only-of-type {\n",
       "        vertical-align: middle;\n",
       "    }\n",
       "\n",
       "    .dataframe tbody tr th {\n",
       "        vertical-align: top;\n",
       "    }\n",
       "\n",
       "    .dataframe thead th {\n",
       "        text-align: right;\n",
       "    }\n",
       "</style>\n",
       "<table border=\"1\" class=\"dataframe\">\n",
       "  <thead>\n",
       "    <tr style=\"text-align: right;\">\n",
       "      <th></th>\n",
       "      <th>id</th>\n",
       "      <th>keyword</th>\n",
       "      <th>location</th>\n",
       "      <th>text</th>\n",
       "      <th>target</th>\n",
       "    </tr>\n",
       "  </thead>\n",
       "  <tbody>\n",
       "    <tr>\n",
       "      <th>0</th>\n",
       "      <td>1</td>\n",
       "      <td>NaN</td>\n",
       "      <td>NaN</td>\n",
       "      <td>Our Deeds are the Reason of this #earthquake May ALLAH Forgive us all</td>\n",
       "      <td>1</td>\n",
       "    </tr>\n",
       "    <tr>\n",
       "      <th>1</th>\n",
       "      <td>4</td>\n",
       "      <td>NaN</td>\n",
       "      <td>NaN</td>\n",
       "      <td>Forest fire near La Ronge Sask. Canada</td>\n",
       "      <td>1</td>\n",
       "    </tr>\n",
       "    <tr>\n",
       "      <th>2</th>\n",
       "      <td>5</td>\n",
       "      <td>NaN</td>\n",
       "      <td>NaN</td>\n",
       "      <td>All residents asked to 'shelter in place' are being notified by officers. No other evacuation or shelter in place orders are expected</td>\n",
       "      <td>1</td>\n",
       "    </tr>\n",
       "    <tr>\n",
       "      <th>3</th>\n",
       "      <td>6</td>\n",
       "      <td>NaN</td>\n",
       "      <td>NaN</td>\n",
       "      <td>13,000 people receive #wildfires evacuation orders in California</td>\n",
       "      <td>1</td>\n",
       "    </tr>\n",
       "    <tr>\n",
       "      <th>4</th>\n",
       "      <td>7</td>\n",
       "      <td>NaN</td>\n",
       "      <td>NaN</td>\n",
       "      <td>Just got sent this photo from Ruby #Alaska as smoke from #wildfires pours into a school</td>\n",
       "      <td>1</td>\n",
       "    </tr>\n",
       "    <tr>\n",
       "      <th>5</th>\n",
       "      <td>8</td>\n",
       "      <td>NaN</td>\n",
       "      <td>NaN</td>\n",
       "      <td>#RockyFire Update =&gt; California Hwy. 20 closed in both directions due to Lake County fire - #CAfire #wildfires</td>\n",
       "      <td>1</td>\n",
       "    </tr>\n",
       "    <tr>\n",
       "      <th>6</th>\n",
       "      <td>10</td>\n",
       "      <td>NaN</td>\n",
       "      <td>NaN</td>\n",
       "      <td>#flood #disaster Heavy rain causes flash flooding of streets in Manitou, Colorado Springs areas</td>\n",
       "      <td>1</td>\n",
       "    </tr>\n",
       "    <tr>\n",
       "      <th>7</th>\n",
       "      <td>13</td>\n",
       "      <td>NaN</td>\n",
       "      <td>NaN</td>\n",
       "      <td>I'm on top of the hill and I can see a fire in the woods...</td>\n",
       "      <td>1</td>\n",
       "    </tr>\n",
       "    <tr>\n",
       "      <th>8</th>\n",
       "      <td>14</td>\n",
       "      <td>NaN</td>\n",
       "      <td>NaN</td>\n",
       "      <td>There's an emergency evacuation happening now in the building across the street</td>\n",
       "      <td>1</td>\n",
       "    </tr>\n",
       "    <tr>\n",
       "      <th>9</th>\n",
       "      <td>15</td>\n",
       "      <td>NaN</td>\n",
       "      <td>NaN</td>\n",
       "      <td>I'm afraid that the tornado is coming to our area...</td>\n",
       "      <td>1</td>\n",
       "    </tr>\n",
       "  </tbody>\n",
       "</table>\n",
       "</div>"
      ],
      "text/plain": [
       "   id keyword location  \\\n",
       "0   1     NaN      NaN   \n",
       "1   4     NaN      NaN   \n",
       "2   5     NaN      NaN   \n",
       "3   6     NaN      NaN   \n",
       "4   7     NaN      NaN   \n",
       "5   8     NaN      NaN   \n",
       "6  10     NaN      NaN   \n",
       "7  13     NaN      NaN   \n",
       "8  14     NaN      NaN   \n",
       "9  15     NaN      NaN   \n",
       "\n",
       "                                                                                                                                    text  \\\n",
       "0                                                                  Our Deeds are the Reason of this #earthquake May ALLAH Forgive us all   \n",
       "1                                                                                                 Forest fire near La Ronge Sask. Canada   \n",
       "2  All residents asked to 'shelter in place' are being notified by officers. No other evacuation or shelter in place orders are expected   \n",
       "3                                                                      13,000 people receive #wildfires evacuation orders in California    \n",
       "4                                               Just got sent this photo from Ruby #Alaska as smoke from #wildfires pours into a school    \n",
       "5                         #RockyFire Update => California Hwy. 20 closed in both directions due to Lake County fire - #CAfire #wildfires   \n",
       "6                                        #flood #disaster Heavy rain causes flash flooding of streets in Manitou, Colorado Springs areas   \n",
       "7                                                                            I'm on top of the hill and I can see a fire in the woods...   \n",
       "8                                                        There's an emergency evacuation happening now in the building across the street   \n",
       "9                                                                                   I'm afraid that the tornado is coming to our area...   \n",
       "\n",
       "   target  \n",
       "0       1  \n",
       "1       1  \n",
       "2       1  \n",
       "3       1  \n",
       "4       1  \n",
       "5       1  \n",
       "6       1  \n",
       "7       1  \n",
       "8       1  \n",
       "9       1  "
      ]
     },
     "execution_count": 385,
     "metadata": {},
     "output_type": "execute_result"
    }
   ],
   "source": [
    "# train data\n",
    "df_tweet.head(10)"
   ]
  },
  {
   "cell_type": "code",
   "execution_count": 386,
   "metadata": {},
   "outputs": [
    {
     "data": {
      "text/html": [
       "<div>\n",
       "<style scoped>\n",
       "    .dataframe tbody tr th:only-of-type {\n",
       "        vertical-align: middle;\n",
       "    }\n",
       "\n",
       "    .dataframe tbody tr th {\n",
       "        vertical-align: top;\n",
       "    }\n",
       "\n",
       "    .dataframe thead th {\n",
       "        text-align: right;\n",
       "    }\n",
       "</style>\n",
       "<table border=\"1\" class=\"dataframe\">\n",
       "  <thead>\n",
       "    <tr style=\"text-align: right;\">\n",
       "      <th></th>\n",
       "      <th>id</th>\n",
       "      <th>keyword</th>\n",
       "      <th>location</th>\n",
       "      <th>text</th>\n",
       "    </tr>\n",
       "  </thead>\n",
       "  <tbody>\n",
       "    <tr>\n",
       "      <th>0</th>\n",
       "      <td>0</td>\n",
       "      <td>NaN</td>\n",
       "      <td>NaN</td>\n",
       "      <td>Just happened a terrible car crash</td>\n",
       "    </tr>\n",
       "    <tr>\n",
       "      <th>1</th>\n",
       "      <td>2</td>\n",
       "      <td>NaN</td>\n",
       "      <td>NaN</td>\n",
       "      <td>Heard about #earthquake is different cities, stay safe everyone.</td>\n",
       "    </tr>\n",
       "    <tr>\n",
       "      <th>2</th>\n",
       "      <td>3</td>\n",
       "      <td>NaN</td>\n",
       "      <td>NaN</td>\n",
       "      <td>there is a forest fire at spot pond, geese are fleeing across the street, I cannot save them all</td>\n",
       "    </tr>\n",
       "    <tr>\n",
       "      <th>3</th>\n",
       "      <td>9</td>\n",
       "      <td>NaN</td>\n",
       "      <td>NaN</td>\n",
       "      <td>Apocalypse lighting. #Spokane #wildfires</td>\n",
       "    </tr>\n",
       "    <tr>\n",
       "      <th>4</th>\n",
       "      <td>11</td>\n",
       "      <td>NaN</td>\n",
       "      <td>NaN</td>\n",
       "      <td>Typhoon Soudelor kills 28 in China and Taiwan</td>\n",
       "    </tr>\n",
       "  </tbody>\n",
       "</table>\n",
       "</div>"
      ],
      "text/plain": [
       "   id keyword location  \\\n",
       "0   0     NaN      NaN   \n",
       "1   2     NaN      NaN   \n",
       "2   3     NaN      NaN   \n",
       "3   9     NaN      NaN   \n",
       "4  11     NaN      NaN   \n",
       "\n",
       "                                                                                               text  \n",
       "0                                                                Just happened a terrible car crash  \n",
       "1                                  Heard about #earthquake is different cities, stay safe everyone.  \n",
       "2  there is a forest fire at spot pond, geese are fleeing across the street, I cannot save them all  \n",
       "3                                                          Apocalypse lighting. #Spokane #wildfires  \n",
       "4                                                     Typhoon Soudelor kills 28 in China and Taiwan  "
      ]
     },
     "execution_count": 386,
     "metadata": {},
     "output_type": "execute_result"
    }
   ],
   "source": [
    "# test data . Note: it does not have target column and just can be used for testing\n",
    "df_test.head()"
   ]
  },
  {
   "cell_type": "code",
   "execution_count": 387,
   "metadata": {},
   "outputs": [
    {
     "name": "stdout",
     "output_type": "stream",
     "text": [
      "missing values of the keyword column: 61/7613 (0.8%)\n",
      "missing values of the location column: 2533/7613 (33.27%)\n"
     ]
    }
   ],
   "source": [
    "print('missing values of the keyword column: {}/{} ({}%)'.\n",
    "      format(df_tweet.keyword.isna().sum(),len(df_tweet),\n",
    "             round((df_tweet.keyword.isna().sum() / len(df_tweet)) * 100,2)))\n",
    "\n",
    "print('missing values of the location column: {}/{} ({}%)'.\n",
    "      format(df_tweet.location.isna().sum(), len(df_tweet),\n",
    "             round((df_tweet.location.isna().sum() / len(df_tweet)) * 100,2)))"
   ]
  },
  {
   "cell_type": "code",
   "execution_count": 388,
   "metadata": {},
   "outputs": [
    {
     "name": "stdout",
     "output_type": "stream",
     "text": [
      "class 0: 4342 cases\n",
      "class 1: 3271 cases\n"
     ]
    }
   ],
   "source": [
    "print('class 0: {} cases'.format(df_tweet.target.value_counts()[0]))\n",
    "print('class 1: {} cases'.format(df_tweet.target.value_counts()[1]))"
   ]
  },
  {
   "cell_type": "code",
   "execution_count": 389,
   "metadata": {},
   "outputs": [
    {
     "data": {
      "image/png": "[encoded data removed]",
      "text/plain": [
       "<Figure size 432x288 with 1 Axes>"
      ]
     },
     "metadata": {
      "needs_background": "light"
     },
     "output_type": "display_data"
    }
   ],
   "source": [
    "# the number of classes are almost balanced. So, we do not need to balance them.\n",
    "# However, there are more tweets with class 0 (No disaster) than class 1 (disaster tweets)\n",
    "target_counts = df_tweet.target.value_counts()\n",
    "sns.barplot(target_counts.index,target_counts)\n",
    "plt.gca().set_ylabel('Samples')\n",
    "plt.gca().set_xlabel('Classes')\n",
    "plt.show();"
   ]
  },
  {
   "cell_type": "markdown",
   "metadata": {},
   "source": [
    "### Number of characters in tweets"
   ]
  },
  {
   "cell_type": "code",
   "execution_count": 390,
   "metadata": {},
   "outputs": [
    {
     "data": {
      "image/png": "[encoded data removed]",
      "text/plain": [
       "<Figure size 648x360 with 2 Axes>"
      ]
     },
     "metadata": {
      "needs_background": "light"
     },
     "output_type": "display_data"
    }
   ],
   "source": [
    "fig,(ax1,ax2) = plt.subplots(1,2,figsize=(9,5))\n",
    "\n",
    "tweet_disaster_len=df_tweet[df_tweet.target == 1]['text'].str.len()\n",
    "ax1.hist(tweet_disaster_len,color='pink')\n",
    "ax1.set_title('Disaster tweets')\n",
    "ax1.set_xlabel('Number of characters')\n",
    "ax1.set_ylabel('Count')\n",
    "\n",
    "tweet_not_disaster_len=df_tweet[df_tweet.target == 0]['text'].str.len()\n",
    "ax2.hist(tweet_not_disaster_len,color='lightblue')\n",
    "ax2.set_title('Not disaster tweets')\n",
    "ax2.set_xlabel('Number of characters')\n",
    "ax2.set_ylabel('Count')\n",
    "\n",
    "fig.suptitle('Number of Characters in the tweets')\n",
    "plt.show();"
   ]
  },
  {
   "cell_type": "markdown",
   "metadata": {},
   "source": [
    "### Number of words in a tweet"
   ]
  },
  {
   "cell_type": "code",
   "execution_count": 391,
   "metadata": {},
   "outputs": [
    {
     "data": {
      "image/png": "[encoded data removed]",
      "text/plain": [
       "<Figure size 648x360 with 2 Axes>"
      ]
     },
     "metadata": {
      "needs_background": "light"
     },
     "output_type": "display_data"
    }
   ],
   "source": [
    "fig,(ax1,ax2)=plt.subplots(1,2,figsize=(9,5))\n",
    "tweet_disaster_len=df_tweet[df_tweet['target']==1]['text'].str.split().map(lambda x: len(x))\n",
    "ax1.hist(tweet_disaster_len,color='pink')\n",
    "ax1.set_title('disaster tweets')\n",
    "ax1.set_xlabel('Number of words')\n",
    "ax1.set_ylabel('Count')\n",
    "\n",
    "tweet_not_disaster_len=df_tweet[df_tweet['target']==0]['text'].str.split().map(lambda x: len(x))\n",
    "ax2.hist(tweet_not_disaster_len,color='lightblue')\n",
    "ax2.set_title('Not disaster tweets')\n",
    "ax2.set_xlabel('Number of words')\n",
    "ax2.set_ylabel('Count')\n",
    "\n",
    "fig.suptitle('Words in a tweet')\n",
    "plt.show();"
   ]
  },
  {
   "cell_type": "markdown",
   "metadata": {},
   "source": [
    "we are going to drop the columns which have missing values as well as ID. \n",
    "ID does not add any value to the model that we are about to create."
   ]
  },
  {
   "cell_type": "code",
   "execution_count": 392,
   "metadata": {},
   "outputs": [],
   "source": [
    "df_tweet.drop(['id','location', 'keyword'], axis=1, inplace=True)\n",
    "df_test.drop(['id','location', 'keyword'], axis=1, inplace=True)"
   ]
  },
  {
   "cell_type": "code",
   "execution_count": 393,
   "metadata": {},
   "outputs": [
    {
     "data": {
      "text/html": [
       "<div>\n",
       "<style scoped>\n",
       "    .dataframe tbody tr th:only-of-type {\n",
       "        vertical-align: middle;\n",
       "    }\n",
       "\n",
       "    .dataframe tbody tr th {\n",
       "        vertical-align: top;\n",
       "    }\n",
       "\n",
       "    .dataframe thead th {\n",
       "        text-align: right;\n",
       "    }\n",
       "</style>\n",
       "<table border=\"1\" class=\"dataframe\">\n",
       "  <thead>\n",
       "    <tr style=\"text-align: right;\">\n",
       "      <th></th>\n",
       "      <th>text</th>\n",
       "      <th>target</th>\n",
       "    </tr>\n",
       "  </thead>\n",
       "  <tbody>\n",
       "    <tr>\n",
       "      <th>0</th>\n",
       "      <td>Our Deeds are the Reason of this #earthquake May ALLAH Forgive us all</td>\n",
       "      <td>1</td>\n",
       "    </tr>\n",
       "    <tr>\n",
       "      <th>1</th>\n",
       "      <td>Forest fire near La Ronge Sask. Canada</td>\n",
       "      <td>1</td>\n",
       "    </tr>\n",
       "    <tr>\n",
       "      <th>2</th>\n",
       "      <td>All residents asked to 'shelter in place' are being notified by officers. No other evacuation or shelter in place orders are expected</td>\n",
       "      <td>1</td>\n",
       "    </tr>\n",
       "    <tr>\n",
       "      <th>3</th>\n",
       "      <td>13,000 people receive #wildfires evacuation orders in California</td>\n",
       "      <td>1</td>\n",
       "    </tr>\n",
       "    <tr>\n",
       "      <th>4</th>\n",
       "      <td>Just got sent this photo from Ruby #Alaska as smoke from #wildfires pours into a school</td>\n",
       "      <td>1</td>\n",
       "    </tr>\n",
       "  </tbody>\n",
       "</table>\n",
       "</div>"
      ],
      "text/plain": [
       "                                                                                                                                    text  \\\n",
       "0                                                                  Our Deeds are the Reason of this #earthquake May ALLAH Forgive us all   \n",
       "1                                                                                                 Forest fire near La Ronge Sask. Canada   \n",
       "2  All residents asked to 'shelter in place' are being notified by officers. No other evacuation or shelter in place orders are expected   \n",
       "3                                                                      13,000 people receive #wildfires evacuation orders in California    \n",
       "4                                               Just got sent this photo from Ruby #Alaska as smoke from #wildfires pours into a school    \n",
       "\n",
       "   target  \n",
       "0       1  \n",
       "1       1  \n",
       "2       1  \n",
       "3       1  \n",
       "4       1  "
      ]
     },
     "execution_count": 393,
     "metadata": {},
     "output_type": "execute_result"
    }
   ],
   "source": [
    "df_tweet.head(5)"
   ]
  },
  {
   "cell_type": "markdown",
   "metadata": {},
   "source": [
    "### Cleaning data\n",
    "-Remove URLs <br>\n",
    "-Remove HTML tags <br>\n",
    "-Remove special characters <br>\n",
    "-etc"
   ]
  },
  {
   "cell_type": "code",
   "execution_count": 394,
   "metadata": {},
   "outputs": [
    {
     "name": "stdout",
     "output_type": "stream",
     "text": [
      "(10880, 2)\n"
     ]
    }
   ],
   "source": [
    "# combine train and test dataframes\n",
    "df_combined = pd.concat([df_tweet, df_test], sort=False, ignore_index=True).reindex()\n",
    "print(df_combined.shape)"
   ]
  },
  {
   "cell_type": "code",
   "execution_count": 395,
   "metadata": {},
   "outputs": [],
   "source": [
    "def remove_URLs(text):\n",
    "    url = re.compile(r'https?://\\S+|www\\.\\S+')\n",
    "    return url.sub(r'',text)\n",
    "\n",
    "def remove_html_tags(text):\n",
    "    html=re.compile(r'<.*?>')\n",
    "    return html.sub(r'',text)\n",
    "\n",
    "def remove_punctuations(text):\n",
    "    table=str.maketrans('','',string.punctuation)\n",
    "    return text.translate(table)\n",
    "\n",
    "def correct_spellings(text):\n",
    "    spell = SpellChecker()\n",
    "    corrected_text = []\n",
    "    misspelled_words = spell.unknown(text.split())\n",
    "    for word in text.split():\n",
    "        if word in misspelled_words:\n",
    "            corrected_text.append(spell.correction(word))\n",
    "        else:\n",
    "            corrected_text.append(word)\n",
    "    return \" \".join(corrected_text)\n",
    "\n",
    "\n",
    "def clean_data(df):\n",
    "    \n",
    "    documents = list()\n",
    "    ps = PorterStemmer()\n",
    "    #wnl = WordNetLemmatizer()\n",
    "\n",
    "    for i in range(0, len(df)):\n",
    "\n",
    "        # Remove all the special characters\n",
    "        document = re.sub(r'\\W', ' ', str(df.loc[i,'text']))\n",
    "\n",
    "        # remove all single characters\n",
    "        document = re.sub(r'\\s+[a-zA-Z]\\s+', ' ', document)\n",
    "\n",
    "        # Remove single characters from the start\n",
    "        document = re.sub(r'\\^[a-zA-Z]\\s+', ' ', document) \n",
    "\n",
    "        # Substituting multiple spaces with single space\n",
    "        document = re.sub(r'\\s+', ' ', document, flags=re.I)\n",
    "\n",
    "        # Removing prefixed 'b'\n",
    "        document = re.sub(r'^b\\s+', '', document)\n",
    "\n",
    "        # Converting to lowercase\n",
    "        document = document.lower()\n",
    "\n",
    "        # lemmatization and stemmer\n",
    "        # In lemmatization, we can convert the word into the root form of the word. \n",
    "        # for exampel, \"houses\" is converted into \"house\".\n",
    "        document = document.split()\n",
    "        document = [ps.stem(word) for word in document]\n",
    "        document = ' '.join(document)\n",
    "\n",
    "        documents.append(document)\n",
    "    return documents"
   ]
  },
  {
   "cell_type": "code",
   "execution_count": 396,
   "metadata": {},
   "outputs": [],
   "source": [
    "df_combined['text'] = df_combined['text'].apply(lambda x : remove_URLs(x))\n",
    "df_combined['text'] = df_combined['text'].apply(lambda x : remove_html_tags(x))\n",
    "df_combined['text'] = df_combined['text'].apply(lambda x : remove_punctuations(x))\n",
    "# it takes long time to execute\n",
    "#df_tweet['text'] = df_tweet['text'].apply(lambda x : correct_spellings(x))\n",
    "documents = list(clean_data(df_combined))"
   ]
  },
  {
   "cell_type": "code",
   "execution_count": 397,
   "metadata": {},
   "outputs": [
    {
     "data": {
      "text/plain": [
       "10880"
      ]
     },
     "execution_count": 397,
     "metadata": {},
     "output_type": "execute_result"
    }
   ],
   "source": [
    "len(documents)"
   ]
  },
  {
   "cell_type": "code",
   "execution_count": 398,
   "metadata": {},
   "outputs": [
    {
     "data": {
      "text/html": [
       "<div>\n",
       "<style scoped>\n",
       "    .dataframe tbody tr th:only-of-type {\n",
       "        vertical-align: middle;\n",
       "    }\n",
       "\n",
       "    .dataframe tbody tr th {\n",
       "        vertical-align: top;\n",
       "    }\n",
       "\n",
       "    .dataframe thead th {\n",
       "        text-align: right;\n",
       "    }\n",
       "</style>\n",
       "<table border=\"1\" class=\"dataframe\">\n",
       "  <thead>\n",
       "    <tr style=\"text-align: right;\">\n",
       "      <th></th>\n",
       "      <th>text</th>\n",
       "      <th>target</th>\n",
       "    </tr>\n",
       "  </thead>\n",
       "  <tbody>\n",
       "    <tr>\n",
       "      <th>50</th>\n",
       "      <td>Deputies Man shot before Brighton home set ablaze</td>\n",
       "      <td>1.0</td>\n",
       "    </tr>\n",
       "    <tr>\n",
       "      <th>51</th>\n",
       "      <td>Man wife get six years jail for setting ablaze niece\\n</td>\n",
       "      <td>1.0</td>\n",
       "    </tr>\n",
       "    <tr>\n",
       "      <th>52</th>\n",
       "      <td>SANTA CRUZ ÛÓ Head of the St Elizabeth Police Superintendent Lanford Salmon has r</td>\n",
       "      <td>0.0</td>\n",
       "    </tr>\n",
       "    <tr>\n",
       "      <th>53</th>\n",
       "      <td>Police Arsonist Deliberately Set Black Church In North CarolinaåÊAblaze</td>\n",
       "      <td>1.0</td>\n",
       "    </tr>\n",
       "    <tr>\n",
       "      <th>54</th>\n",
       "      <td>Noches ElBestia AlexisSanchez happy to see my teammates and training hard  goodnight gunners</td>\n",
       "      <td>0.0</td>\n",
       "    </tr>\n",
       "    <tr>\n",
       "      <th>55</th>\n",
       "      <td>Kurds trampling on Turkmen flag later set it ablaze while others vandalized offices of Turkmen Front in Diyala</td>\n",
       "      <td>1.0</td>\n",
       "    </tr>\n",
       "    <tr>\n",
       "      <th>56</th>\n",
       "      <td>TRUCK ABLAZE  R21 VOORTREKKER AVE OUTSIDE OR TAMBO INTL CARGO SECTION</td>\n",
       "      <td>1.0</td>\n",
       "    </tr>\n",
       "    <tr>\n",
       "      <th>57</th>\n",
       "      <td>Set our hearts ablaze and every city was a gift And every skyline was like a kiss upon the lips Û</td>\n",
       "      <td>0.0</td>\n",
       "    </tr>\n",
       "    <tr>\n",
       "      <th>58</th>\n",
       "      <td>They sky was ablaze tonight in Los Angeles Im expecting IG and FB to be filled with sunset shots if I know my peeps</td>\n",
       "      <td>0.0</td>\n",
       "    </tr>\n",
       "    <tr>\n",
       "      <th>59</th>\n",
       "      <td>How the West was burned Thousands of wildfires ablaze in California alone  climate energy</td>\n",
       "      <td>1.0</td>\n",
       "    </tr>\n",
       "  </tbody>\n",
       "</table>\n",
       "</div>"
      ],
      "text/plain": [
       "                                                                                                                   text  \\\n",
       "50                                                                   Deputies Man shot before Brighton home set ablaze    \n",
       "51                                                               Man wife get six years jail for setting ablaze niece\\n   \n",
       "52                               SANTA CRUZ ÛÓ Head of the St Elizabeth Police Superintendent Lanford Salmon has r       \n",
       "53                                             Police Arsonist Deliberately Set Black Church In North CarolinaåÊAblaze    \n",
       "54                        Noches ElBestia AlexisSanchez happy to see my teammates and training hard  goodnight gunners    \n",
       "55      Kurds trampling on Turkmen flag later set it ablaze while others vandalized offices of Turkmen Front in Diyala    \n",
       "56                                               TRUCK ABLAZE  R21 VOORTREKKER AVE OUTSIDE OR TAMBO INTL CARGO SECTION    \n",
       "57                  Set our hearts ablaze and every city was a gift And every skyline was like a kiss upon the lips Û    \n",
       "58  They sky was ablaze tonight in Los Angeles Im expecting IG and FB to be filled with sunset shots if I know my peeps   \n",
       "59                           How the West was burned Thousands of wildfires ablaze in California alone  climate energy    \n",
       "\n",
       "    target  \n",
       "50     1.0  \n",
       "51     1.0  \n",
       "52     0.0  \n",
       "53     1.0  \n",
       "54     0.0  \n",
       "55     1.0  \n",
       "56     1.0  \n",
       "57     0.0  \n",
       "58     0.0  \n",
       "59     1.0  "
      ]
     },
     "execution_count": 398,
     "metadata": {},
     "output_type": "execute_result"
    }
   ],
   "source": [
    "df_combined[50:60]"
   ]
  },
  {
   "cell_type": "code",
   "execution_count": 399,
   "metadata": {},
   "outputs": [
    {
     "data": {
      "text/plain": [
       "['deputi man shot befor brighton home set ablaz',\n",
       " 'man wife get six year jail for set ablaz niec',\n",
       " 'santa cruz ûó head of the st elizabeth polic superintend lanford salmon ha',\n",
       " 'polic arsonist deliber set black church in north carolinaåêablaz',\n",
       " 'noch elbestia alexissanchez happi to see my teammat and train hard goodnight gunner',\n",
       " 'kurd trampl on turkmen flag later set it ablaz while other vandal offic of turkmen front in diyala',\n",
       " 'truck ablaz r21 voortrekk ave outsid or tambo intl cargo section',\n",
       " 'set our heart ablaz and everi citi wa gift and everi skylin wa like kiss upon the lip û',\n",
       " 'they sky wa ablaz tonight in lo angel im expect ig and fb to be fill with sunset shot if know my peep',\n",
       " 'how the west wa burn thousand of wildfir ablaz in california alon climat energi']"
      ]
     },
     "execution_count": 399,
     "metadata": {},
     "output_type": "execute_result"
    }
   ],
   "source": [
    "# print 10 rows\n",
    "documents[50:60]"
   ]
  },
  {
   "cell_type": "markdown",
   "metadata": {},
   "source": [
    "## Converting Text to Numbers\n",
    "\n",
    "Machines cannot understand the raw text. Machines can only understand numbers. \n",
    "Statistical techniques including machine learning can only deal with numbers. \n",
    "Therefore, we need to convert our text into numbers.\n",
    "\n",
    "<ul>   \n",
    "   <li><b>max_features:</b> Build a vocabulary that only consider the top max_features ordered by term frequency across the corpus</li>\n",
    "    <li><b>max_df:</b> When building the vocabulary ignore terms that have a document frequency strictly higher than the given threshold.</li>\n",
    "    </ul>"
   ]
  },
  {
   "cell_type": "code",
   "execution_count": 400,
   "metadata": {},
   "outputs": [
    {
     "data": {
      "image/png": "[encoded data removed]",
      "text/plain": [
       "<Figure size 720x720 with 1 Axes>"
      ]
     },
     "metadata": {
      "needs_background": "light"
     },
     "output_type": "display_data"
    }
   ],
   "source": [
    "# Find the document term frequency matrix\n",
    "stopwords = nltk.corpus.stopwords.words('english')\n",
    "\n",
    "# add some more stop words\n",
    "newStopWords = ['http','https', 'co', 'via', 'us','like','one','get','new','û','ha']\n",
    "stopwords.extend(newStopWords)\n",
    "\n",
    "vectorizer = CountVectorizer(max_features=10000,\n",
    "                             analyzer='word',\n",
    "                             max_df=.6,\n",
    "                             stop_words=stopwords)\n",
    "\n",
    "X = vectorizer.fit_transform(documents).toarray()\n",
    "\n",
    "# Get all features (tokens)\n",
    "features = vectorizer.get_feature_names()\n",
    "\n",
    "# we can use yellowbrick package for visualization of top 30 tokens\n",
    "fig, ax = plt.subplots(figsize=(10, 10))\n",
    "visualizer = FreqDistVisualizer(features=features, n=30, orient='h')\n",
    "visualizer.fit(X)\n",
    "visualizer.poof()"
   ]
  },
  {
   "cell_type": "code",
   "execution_count": 401,
   "metadata": {},
   "outputs": [],
   "source": [
    "tfidfconverter = TfidfTransformer()\n",
    "\n",
    "X = tfidfconverter.fit_transform(X).toarray()\n",
    "y = df_tweet['target']\n",
    "\n",
    "#split data into train and test set\n",
    "train_set_X = X[:df_tweet.shape[0]]\n",
    "test_set_X = X[df_tweet.shape[0]:]"
   ]
  },
  {
   "cell_type": "code",
   "execution_count": 309,
   "metadata": {},
   "outputs": [],
   "source": [
    "X_train, X_test, y_train, y_test = train_test_split(train_set_X, y, \n",
    "                                                    test_size=0.3, \n",
    "                                                    random_state=0)"
   ]
  },
  {
   "cell_type": "markdown",
   "metadata": {},
   "source": [
    "### Creating the model"
   ]
  },
  {
   "cell_type": "code",
   "execution_count": 310,
   "metadata": {},
   "outputs": [],
   "source": [
    "rfc = RandomForestClassifier(n_estimators=800, \n",
    "                             random_state=42, \n",
    "                             max_features='auto')\n",
    "\n",
    "rfc.fit(X_train, y_train)\n",
    "\n",
    "# predict for testing data\n",
    "y_pred_test = rfc.predict(X_test)\n",
    "\n",
    "# predict for training data\n",
    "y_pred_train = rfc.predict(X_train)"
   ]
  },
  {
   "cell_type": "code",
   "execution_count": 311,
   "metadata": {},
   "outputs": [
    {
     "name": "stdout",
     "output_type": "stream",
     "text": [
      "0.7850262697022767\n",
      "[[1168  170]\n",
      " [ 321  625]]\n",
      "              precision    recall  f1-score   support\n",
      "\n",
      "           0       0.78      0.87      0.83      1338\n",
      "           1       0.79      0.66      0.72       946\n",
      "\n",
      "   micro avg       0.79      0.79      0.79      2284\n",
      "   macro avg       0.79      0.77      0.77      2284\n",
      "weighted avg       0.79      0.79      0.78      2284\n",
      "\n"
     ]
    }
   ],
   "source": [
    "# test\n",
    "print(accuracy_score(y_test, y_pred_test))\n",
    "print(confusion_matrix(y_test,y_pred_test))\n",
    "print(classification_report(y_test,y_pred_test))"
   ]
  },
  {
   "cell_type": "code",
   "execution_count": 312,
   "metadata": {},
   "outputs": [
    {
     "name": "stdout",
     "output_type": "stream",
     "text": [
      "0.9866766747982736\n",
      "[[2987   17]\n",
      " [  54 2271]]\n",
      "              precision    recall  f1-score   support\n",
      "\n",
      "           0       0.98      0.99      0.99      3004\n",
      "           1       0.99      0.98      0.98      2325\n",
      "\n",
      "   micro avg       0.99      0.99      0.99      5329\n",
      "   macro avg       0.99      0.99      0.99      5329\n",
      "weighted avg       0.99      0.99      0.99      5329\n",
      "\n"
     ]
    }
   ],
   "source": [
    "# train\n",
    "print(accuracy_score(y_train, y_pred_train))\n",
    "print(confusion_matrix(y_train,y_pred_train))\n",
    "print(classification_report(y_train,y_pred_train))"
   ]
  },
  {
   "cell_type": "markdown",
   "metadata": {},
   "source": [
    "### Save the Model"
   ]
  },
  {
   "cell_type": "code",
   "execution_count": 313,
   "metadata": {},
   "outputs": [],
   "source": [
    "#The wb indicates that the file is opened for writing in binary mode\n",
    "with open('text_classifier', 'wb') as picklefile:\n",
    "    pickle.dump(rfc,picklefile)"
   ]
  },
  {
   "cell_type": "markdown",
   "metadata": {},
   "source": [
    "### Load the Model"
   ]
  },
  {
   "cell_type": "code",
   "execution_count": 353,
   "metadata": {},
   "outputs": [],
   "source": [
    "#The rb indicates that the file is opened for reading in binary mode\n",
    "with open('text_classifier', 'rb') as training_model:\n",
    "    model = pickle.load(training_model)"
   ]
  },
  {
   "cell_type": "markdown",
   "metadata": {},
   "source": [
    "### Make prediction based on the Loaded model"
   ]
  },
  {
   "cell_type": "code",
   "execution_count": 354,
   "metadata": {},
   "outputs": [
    {
     "name": "stdout",
     "output_type": "stream",
     "text": [
      "[[1168  170]\n",
      " [ 321  625]]\n",
      "              precision    recall  f1-score   support\n",
      "\n",
      "           0       0.78      0.87      0.83      1338\n",
      "           1       0.79      0.66      0.72       946\n",
      "\n",
      "   micro avg       0.79      0.79      0.79      2284\n",
      "   macro avg       0.79      0.77      0.77      2284\n",
      "weighted avg       0.79      0.79      0.78      2284\n",
      "\n",
      "0.7850262697022767\n"
     ]
    }
   ],
   "source": [
    "y_pred_test_2 = model.predict(X_test)\n",
    "\n",
    "print(confusion_matrix(y_test, y_pred_test_2))\n",
    "print(classification_report(y_test, y_pred_test_2))\n",
    "print(accuracy_score(y_test, y_pred_test_2)) "
   ]
  },
  {
   "cell_type": "code",
   "execution_count": 404,
   "metadata": {},
   "outputs": [],
   "source": [
    "sample_sub = pd.read_csv('dataset/sample.csv')"
   ]
  },
  {
   "cell_type": "code",
   "execution_count": 405,
   "metadata": {},
   "outputs": [],
   "source": [
    "y_pred_test_data = model.predict(test_set_X)\n",
    "y_pred_test_data = np.round(y_pred_test_data).astype(int).reshape(3267)\n",
    "\n",
    "sub = pd.DataFrame({'id':sample_sub['id'].values.tolist(),'text':df_test['text'].values.tolist(),'target':y_pred_test_data})\n",
    "sub.to_csv('output.csv',index=False)"
   ]
  },
  {
   "cell_type": "code",
   "execution_count": null,
   "metadata": {},
   "outputs": [],
   "source": []
  },
  {
   "cell_type": "code",
   "execution_count": null,
   "metadata": {},
   "outputs": [],
   "source": []
  }
 ],
 "metadata": {
  "kernelspec": {
   "display_name": "Python 3",
   "language": "python",
   "name": "python3"
  },
  "language_info": {
   "codemirror_mode": {
    "name": "ipython",
    "version": 3
   },
   "file_extension": ".py",
   "mimetype": "text/x-python",
   "name": "python",
   "nbconvert_exporter": "python",
   "pygments_lexer": "ipython3",
   "version": "3.6.8"
  }
 },
 "nbformat": 4,
 "nbformat_minor": 2
}
