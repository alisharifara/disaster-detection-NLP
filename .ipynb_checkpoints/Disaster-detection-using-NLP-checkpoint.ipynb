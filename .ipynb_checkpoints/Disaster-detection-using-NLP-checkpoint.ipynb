{
 "cells": [
  {
   "cell_type": "code",
   "execution_count": 264,
   "metadata": {},
   "outputs": [],
   "source": [
    "import re\n",
    "import pandas as pd\n",
    "\n",
    "import numpy as np\n",
    "import matplotlib.pyplot as plt\n",
    "import seaborn as sns\n",
    "import pickle\n",
    "import string\n",
    "\n",
    "from sklearn.feature_extraction.text import TfidfVectorizer\n",
    "from sklearn.feature_extraction.text import TfidfTransformer\n",
    "from sklearn.feature_extraction.text import CountVectorizer\n",
    "\n",
    "from sklearn.model_selection import learning_curve\n",
    "from sklearn.ensemble import RandomForestClassifier\n",
    "from sklearn.metrics import classification_report, confusion_matrix, accuracy_score\n",
    "from sklearn.model_selection import train_test_split\n",
    "from sklearn.model_selection import KFold\n",
    "\n",
    "import nltk\n",
    "from spellchecker import SpellChecker\n",
    "from nltk.stem import PorterStemmer\n",
    "from nltk.stem import WordNetLemmatizer\n",
    "\n",
    "from yellowbrick.text.freqdist import FreqDistVisualizer \n",
    "\n",
    "%matplotlib inline\n",
    "pd.set_option('display.max_colwidth', 200)"
   ]
  },
  {
   "cell_type": "code",
   "execution_count": 265,
   "metadata": {},
   "outputs": [],
   "source": [
    "#!pip install pyspellchecker"
   ]
  },
  {
   "cell_type": "code",
   "execution_count": 266,
   "metadata": {},
   "outputs": [],
   "source": [
    "# dataset is taken from Kaggle\n",
    "df_tweet = pd.read_csv('./dataset/train.csv')\n",
    "\n",
    "# Note: this df does not have the target column\n",
    "df_test = pd.read_csv('./dataset/test.csv')"
   ]
  },
  {
   "cell_type": "code",
   "execution_count": 267,
   "metadata": {},
   "outputs": [
    {
     "name": "stdout",
     "output_type": "stream",
     "text": [
      "There are 7613 rows and 5 columns in the training dataset\n",
      "There are 3263 rows and 4 columns in the testing dataset\n"
     ]
    }
   ],
   "source": [
    "print('There are {} rows and {} columns in the training dataset'.\n",
    "      format(df_tweet.shape[0],df_tweet.shape[1]))\n",
    "\n",
    "print('There are {} rows and {} columns in the testing dataset'.\n",
    "      format(df_test.shape[0],df_test.shape[1]))"
   ]
  },
  {
   "cell_type": "code",
   "execution_count": 268,
   "metadata": {},
   "outputs": [
    {
     "data": {
      "text/html": [
       "<div>\n",
       "<style scoped>\n",
       "    .dataframe tbody tr th:only-of-type {\n",
       "        vertical-align: middle;\n",
       "    }\n",
       "\n",
       "    .dataframe tbody tr th {\n",
       "        vertical-align: top;\n",
       "    }\n",
       "\n",
       "    .dataframe thead th {\n",
       "        text-align: right;\n",
       "    }\n",
       "</style>\n",
       "<table border=\"1\" class=\"dataframe\">\n",
       "  <thead>\n",
       "    <tr style=\"text-align: right;\">\n",
       "      <th></th>\n",
       "      <th>id</th>\n",
       "      <th>keyword</th>\n",
       "      <th>location</th>\n",
       "      <th>text</th>\n",
       "      <th>target</th>\n",
       "    </tr>\n",
       "  </thead>\n",
       "  <tbody>\n",
       "    <tr>\n",
       "      <th>0</th>\n",
       "      <td>1</td>\n",
       "      <td>NaN</td>\n",
       "      <td>NaN</td>\n",
       "      <td>Our Deeds are the Reason of this #earthquake May ALLAH Forgive us all</td>\n",
       "      <td>1</td>\n",
       "    </tr>\n",
       "    <tr>\n",
       "      <th>1</th>\n",
       "      <td>4</td>\n",
       "      <td>NaN</td>\n",
       "      <td>NaN</td>\n",
       "      <td>Forest fire near La Ronge Sask. Canada</td>\n",
       "      <td>1</td>\n",
       "    </tr>\n",
       "    <tr>\n",
       "      <th>2</th>\n",
       "      <td>5</td>\n",
       "      <td>NaN</td>\n",
       "      <td>NaN</td>\n",
       "      <td>All residents asked to 'shelter in place' are being notified by officers. No other evacuation or shelter in place orders are expected</td>\n",
       "      <td>1</td>\n",
       "    </tr>\n",
       "    <tr>\n",
       "      <th>3</th>\n",
       "      <td>6</td>\n",
       "      <td>NaN</td>\n",
       "      <td>NaN</td>\n",
       "      <td>13,000 people receive #wildfires evacuation orders in California</td>\n",
       "      <td>1</td>\n",
       "    </tr>\n",
       "    <tr>\n",
       "      <th>4</th>\n",
       "      <td>7</td>\n",
       "      <td>NaN</td>\n",
       "      <td>NaN</td>\n",
       "      <td>Just got sent this photo from Ruby #Alaska as smoke from #wildfires pours into a school</td>\n",
       "      <td>1</td>\n",
       "    </tr>\n",
       "  </tbody>\n",
       "</table>\n",
       "</div>"
      ],
      "text/plain": [
       "   id keyword location  \\\n",
       "0   1     NaN      NaN   \n",
       "1   4     NaN      NaN   \n",
       "2   5     NaN      NaN   \n",
       "3   6     NaN      NaN   \n",
       "4   7     NaN      NaN   \n",
       "\n",
       "                                                                                                                                    text  \\\n",
       "0                                                                  Our Deeds are the Reason of this #earthquake May ALLAH Forgive us all   \n",
       "1                                                                                                 Forest fire near La Ronge Sask. Canada   \n",
       "2  All residents asked to 'shelter in place' are being notified by officers. No other evacuation or shelter in place orders are expected   \n",
       "3                                                                      13,000 people receive #wildfires evacuation orders in California    \n",
       "4                                               Just got sent this photo from Ruby #Alaska as smoke from #wildfires pours into a school    \n",
       "\n",
       "   target  \n",
       "0       1  \n",
       "1       1  \n",
       "2       1  \n",
       "3       1  \n",
       "4       1  "
      ]
     },
     "execution_count": 268,
     "metadata": {},
     "output_type": "execute_result"
    }
   ],
   "source": [
    "# train data\n",
    "df_tweet.head(5)"
   ]
  },
  {
   "cell_type": "code",
   "execution_count": 269,
   "metadata": {},
   "outputs": [
    {
     "data": {
      "text/html": [
       "<div>\n",
       "<style scoped>\n",
       "    .dataframe tbody tr th:only-of-type {\n",
       "        vertical-align: middle;\n",
       "    }\n",
       "\n",
       "    .dataframe tbody tr th {\n",
       "        vertical-align: top;\n",
       "    }\n",
       "\n",
       "    .dataframe thead th {\n",
       "        text-align: right;\n",
       "    }\n",
       "</style>\n",
       "<table border=\"1\" class=\"dataframe\">\n",
       "  <thead>\n",
       "    <tr style=\"text-align: right;\">\n",
       "      <th></th>\n",
       "      <th>id</th>\n",
       "      <th>keyword</th>\n",
       "      <th>location</th>\n",
       "      <th>text</th>\n",
       "    </tr>\n",
       "  </thead>\n",
       "  <tbody>\n",
       "    <tr>\n",
       "      <th>0</th>\n",
       "      <td>0</td>\n",
       "      <td>NaN</td>\n",
       "      <td>NaN</td>\n",
       "      <td>Just happened a terrible car crash</td>\n",
       "    </tr>\n",
       "    <tr>\n",
       "      <th>1</th>\n",
       "      <td>2</td>\n",
       "      <td>NaN</td>\n",
       "      <td>NaN</td>\n",
       "      <td>Heard about #earthquake is different cities, stay safe everyone.</td>\n",
       "    </tr>\n",
       "    <tr>\n",
       "      <th>2</th>\n",
       "      <td>3</td>\n",
       "      <td>NaN</td>\n",
       "      <td>NaN</td>\n",
       "      <td>there is a forest fire at spot pond, geese are fleeing across the street, I cannot save them all</td>\n",
       "    </tr>\n",
       "    <tr>\n",
       "      <th>3</th>\n",
       "      <td>9</td>\n",
       "      <td>NaN</td>\n",
       "      <td>NaN</td>\n",
       "      <td>Apocalypse lighting. #Spokane #wildfires</td>\n",
       "    </tr>\n",
       "    <tr>\n",
       "      <th>4</th>\n",
       "      <td>11</td>\n",
       "      <td>NaN</td>\n",
       "      <td>NaN</td>\n",
       "      <td>Typhoon Soudelor kills 28 in China and Taiwan</td>\n",
       "    </tr>\n",
       "  </tbody>\n",
       "</table>\n",
       "</div>"
      ],
      "text/plain": [
       "   id keyword location  \\\n",
       "0   0     NaN      NaN   \n",
       "1   2     NaN      NaN   \n",
       "2   3     NaN      NaN   \n",
       "3   9     NaN      NaN   \n",
       "4  11     NaN      NaN   \n",
       "\n",
       "                                                                                               text  \n",
       "0                                                                Just happened a terrible car crash  \n",
       "1                                  Heard about #earthquake is different cities, stay safe everyone.  \n",
       "2  there is a forest fire at spot pond, geese are fleeing across the street, I cannot save them all  \n",
       "3                                                          Apocalypse lighting. #Spokane #wildfires  \n",
       "4                                                     Typhoon Soudelor kills 28 in China and Taiwan  "
      ]
     },
     "execution_count": 269,
     "metadata": {},
     "output_type": "execute_result"
    }
   ],
   "source": [
    "# test data . Note: it does not have target column and just can be used for testing\n",
    "df_test.head()"
   ]
  },
  {
   "cell_type": "code",
   "execution_count": 270,
   "metadata": {},
   "outputs": [
    {
     "name": "stdout",
     "output_type": "stream",
     "text": [
      "missing values of the keyword column: 61/7613 (0.8%)\n",
      "missing values of the location column: 2533/7613 (33.27%)\n"
     ]
    }
   ],
   "source": [
    "print('missing values of the keyword column: {}/{} ({}%)'.\n",
    "      format(df_tweet.keyword.isna().sum(),len(df_tweet),\n",
    "             round((df_tweet.keyword.isna().sum() / len(df_tweet)) * 100,2)))\n",
    "\n",
    "print('missing values of the location column: {}/{} ({}%)'.\n",
    "      format(df_tweet.location.isna().sum(), len(df_tweet),\n",
    "             round((df_tweet.location.isna().sum() / len(df_tweet)) * 100,2)))"
   ]
  },
  {
   "cell_type": "code",
   "execution_count": 271,
   "metadata": {},
   "outputs": [
    {
     "name": "stdout",
     "output_type": "stream",
     "text": [
      "class 0: 4342 cases\n",
      "class 1: 3271 cases\n"
     ]
    }
   ],
   "source": [
    "print('class 0: {} cases'.format(df_tweet.target.value_counts()[0]))\n",
    "print('class 1: {} cases'.format(df_tweet.target.value_counts()[1]))"
   ]
  },
  {
   "cell_type": "code",
   "execution_count": 272,
   "metadata": {},
   "outputs": [
    {
     "data": {
      "image/png": "[encoded data removed]",
      "text/plain": [
       "<Figure size 432x288 with 1 Axes>"
      ]
     },
     "metadata": {
      "needs_background": "light"
     },
     "output_type": "display_data"
    }
   ],
   "source": [
    "# the number of classes are almost balanced. So, we do not need to balance them.\n",
    "# However, there are more tweets with class 0 (No disaster) than class 1 (disaster tweets)\n",
    "target_counts = df_tweet.target.value_counts()\n",
    "sns.barplot(target_counts.index,target_counts)\n",
    "plt.gca().set_ylabel('Samples')\n",
    "plt.gca().set_xlabel('Classes')\n",
    "plt.show();"
   ]
  },
  {
   "cell_type": "markdown",
   "metadata": {},
   "source": [
    "### Number of characters in tweets"
   ]
  },
  {
   "cell_type": "code",
   "execution_count": 273,
   "metadata": {},
   "outputs": [
    {
     "data": {
      "image/png": "[encoded data removed]",
      "text/plain": [
       "<Figure size 648x360 with 2 Axes>"
      ]
     },
     "metadata": {
      "needs_background": "light"
     },
     "output_type": "display_data"
    }
   ],
   "source": [
    "fig,(ax1,ax2) = plt.subplots(1,2,figsize=(9,5))\n",
    "\n",
    "tweet_disaster_len=df_tweet[df_tweet.target == 1]['text'].str.len()\n",
    "ax1.hist(tweet_disaster_len,color='pink')\n",
    "ax1.set_title('Disaster tweets')\n",
    "ax1.set_xlabel('Number of characters')\n",
    "ax1.set_ylabel('Count')\n",
    "\n",
    "tweet_not_disaster_len=df_tweet[df_tweet.target == 0]['text'].str.len()\n",
    "ax2.hist(tweet_not_disaster_len,color='lightblue')\n",
    "ax2.set_title('Not disaster tweets')\n",
    "ax2.set_xlabel('Number of characters')\n",
    "ax2.set_ylabel('Count')\n",
    "\n",
    "fig.suptitle('Number of Characters in the tweets')\n",
    "plt.show();"
   ]
  },
  {
   "cell_type": "markdown",
   "metadata": {},
   "source": [
    "### Number of words in a tweet"
   ]
  },
  {
   "cell_type": "code",
   "execution_count": 274,
   "metadata": {},
   "outputs": [
    {
     "data": {
      "image/png": "[encoded data removed]",
      "text/plain": [
       "<Figure size 648x360 with 2 Axes>"
      ]
     },
     "metadata": {
      "needs_background": "light"
     },
     "output_type": "display_data"
    }
   ],
   "source": [
    "fig,(ax1,ax2)=plt.subplots(1,2,figsize=(9,5))\n",
    "tweet_disaster_len=df_tweet[df_tweet['target']==1]['text'].str.split().map(lambda x: len(x))\n",
    "ax1.hist(tweet_disaster_len,color='pink')\n",
    "ax1.set_title('disaster tweets')\n",
    "ax1.set_xlabel('Number of words')\n",
    "ax1.set_ylabel('Count')\n",
    "\n",
    "tweet_not_disaster_len=df_tweet[df_tweet['target']==0]['text'].str.split().map(lambda x: len(x))\n",
    "ax2.hist(tweet_not_disaster_len,color='lightblue')\n",
    "ax2.set_title('Not disaster tweets')\n",
    "ax2.set_xlabel('Number of words')\n",
    "ax2.set_ylabel('Count')\n",
    "\n",
    "fig.suptitle('Words in a tweet')\n",
    "plt.show();"
   ]
  },
  {
   "cell_type": "markdown",
   "metadata": {},
   "source": [
    "we are going to drop the columns which have missing values as well as ID. \n",
    "ID does not add any value to the model that we are about to create."
   ]
  },
  {
   "cell_type": "code",
   "execution_count": 275,
   "metadata": {},
   "outputs": [],
   "source": [
    "df_tweet.drop(['id','location', 'keyword'], axis=1, inplace=True)\n",
    "df_test.drop(['id','location', 'keyword'], axis=1, inplace=True)"
   ]
  },
  {
   "cell_type": "code",
   "execution_count": 276,
   "metadata": {},
   "outputs": [
    {
     "data": {
      "text/html": [
       "<div>\n",
       "<style scoped>\n",
       "    .dataframe tbody tr th:only-of-type {\n",
       "        vertical-align: middle;\n",
       "    }\n",
       "\n",
       "    .dataframe tbody tr th {\n",
       "        vertical-align: top;\n",
       "    }\n",
       "\n",
       "    .dataframe thead th {\n",
       "        text-align: right;\n",
       "    }\n",
       "</style>\n",
       "<table border=\"1\" class=\"dataframe\">\n",
       "  <thead>\n",
       "    <tr style=\"text-align: right;\">\n",
       "      <th></th>\n",
       "      <th>text</th>\n",
       "      <th>target</th>\n",
       "    </tr>\n",
       "  </thead>\n",
       "  <tbody>\n",
       "    <tr>\n",
       "      <th>0</th>\n",
       "      <td>Our Deeds are the Reason of this #earthquake May ALLAH Forgive us all</td>\n",
       "      <td>1</td>\n",
       "    </tr>\n",
       "    <tr>\n",
       "      <th>1</th>\n",
       "      <td>Forest fire near La Ronge Sask. Canada</td>\n",
       "      <td>1</td>\n",
       "    </tr>\n",
       "    <tr>\n",
       "      <th>2</th>\n",
       "      <td>All residents asked to 'shelter in place' are being notified by officers. No other evacuation or shelter in place orders are expected</td>\n",
       "      <td>1</td>\n",
       "    </tr>\n",
       "    <tr>\n",
       "      <th>3</th>\n",
       "      <td>13,000 people receive #wildfires evacuation orders in California</td>\n",
       "      <td>1</td>\n",
       "    </tr>\n",
       "    <tr>\n",
       "      <th>4</th>\n",
       "      <td>Just got sent this photo from Ruby #Alaska as smoke from #wildfires pours into a school</td>\n",
       "      <td>1</td>\n",
       "    </tr>\n",
       "  </tbody>\n",
       "</table>\n",
       "</div>"
      ],
      "text/plain": [
       "                                                                                                                                    text  \\\n",
       "0                                                                  Our Deeds are the Reason of this #earthquake May ALLAH Forgive us all   \n",
       "1                                                                                                 Forest fire near La Ronge Sask. Canada   \n",
       "2  All residents asked to 'shelter in place' are being notified by officers. No other evacuation or shelter in place orders are expected   \n",
       "3                                                                      13,000 people receive #wildfires evacuation orders in California    \n",
       "4                                               Just got sent this photo from Ruby #Alaska as smoke from #wildfires pours into a school    \n",
       "\n",
       "   target  \n",
       "0       1  \n",
       "1       1  \n",
       "2       1  \n",
       "3       1  \n",
       "4       1  "
      ]
     },
     "execution_count": 276,
     "metadata": {},
     "output_type": "execute_result"
    }
   ],
   "source": [
    "df_tweet.head(5)"
   ]
  },
  {
   "cell_type": "markdown",
   "metadata": {},
   "source": [
    "### Cleaning data\n",
    "-Remove URLs <br>\n",
    "-Remove HTML tags <br>\n",
    "-Remove special characters <br>\n",
    "-etc"
   ]
  },
  {
   "cell_type": "code",
   "execution_count": 277,
   "metadata": {},
   "outputs": [
    {
     "name": "stdout",
     "output_type": "stream",
     "text": [
      "(10876, 2)\n"
     ]
    }
   ],
   "source": [
    "# combine train and test dataframes\n",
    "df_combined = pd.concat([df_tweet, df_test], sort=False, ignore_index=True).reindex()\n",
    "print(df_combined.shape)"
   ]
  },
  {
   "cell_type": "code",
   "execution_count": 278,
   "metadata": {},
   "outputs": [],
   "source": [
    "def remove_URLs(text):\n",
    "    url = re.compile(r'https?://\\S+|www\\.\\S+')\n",
    "    return url.sub(r'',text)\n",
    "\n",
    "def remove_html_tags(text):\n",
    "    html=re.compile(r'<.*?>')\n",
    "    return html.sub(r'',text)\n",
    "\n",
    "def remove_punctuations(text):\n",
    "    table=str.maketrans('','',string.punctuation)\n",
    "    return text.translate(table)\n",
    "\n",
    "def correct_spellings(text):\n",
    "    spell = SpellChecker()\n",
    "    corrected_text = []\n",
    "    misspelled_words = spell.unknown(text.split())\n",
    "    for word in text.split():\n",
    "        if word in misspelled_words:\n",
    "            corrected_text.append(spell.correction(word))\n",
    "        else:\n",
    "            corrected_text.append(word)\n",
    "    return \" \".join(corrected_text)\n",
    "\n",
    "\n",
    "def clean_data(df):\n",
    "    \n",
    "    documents = list()\n",
    "    ps = PorterStemmer()\n",
    "    #wnl = WordNetLemmatizer()\n",
    "\n",
    "    for i in range(0, len(df)):\n",
    "\n",
    "        # Remove all the special characters\n",
    "        document = re.sub(r'\\W', ' ', str(df.loc[i,'text']))\n",
    "\n",
    "        # remove all single characters\n",
    "        document = re.sub(r'\\s+[a-zA-Z]\\s+', ' ', document)\n",
    "\n",
    "        # Remove single characters from the start\n",
    "        document = re.sub(r'\\^[a-zA-Z]\\s+', ' ', document) \n",
    "\n",
    "        # Substituting multiple spaces with single space\n",
    "        document = re.sub(r'\\s+', ' ', document, flags=re.I)\n",
    "\n",
    "        # Removing prefixed 'b'\n",
    "        document = re.sub(r'^b\\s+', '', document)\n",
    "\n",
    "        # Converting to lowercase\n",
    "        document = document.lower()\n",
    "\n",
    "        # lemmatization and stemmer\n",
    "        # In lemmatization, we can convert the word into the root form of the word. \n",
    "        # for exampel, \"houses\" is converted into \"house\".\n",
    "        document = document.split()\n",
    "        document = [ps.stem(word) for word in document]\n",
    "        document = ' '.join(document)\n",
    "\n",
    "        documents.append(document)\n",
    "    return documents"
   ]
  },
  {
   "cell_type": "code",
   "execution_count": 279,
   "metadata": {},
   "outputs": [],
   "source": [
    "df_combined['text'] = df_combined['text'].apply(lambda x : remove_URLs(x))\n",
    "df_combined['text'] = df_combined['text'].apply(lambda x : remove_html_tags(x))\n",
    "df_combined['text'] = df_combined['text'].apply(lambda x : remove_punctuations(x))\n",
    "# it takes long time to execute\n",
    "#df_tweet['text'] = df_tweet['text'].apply(lambda x : correct_spellings(x))\n",
    "documents = list(clean_data(df_combined))"
   ]
  },
  {
   "cell_type": "code",
   "execution_count": 280,
   "metadata": {},
   "outputs": [
    {
     "data": {
      "text/plain": [
       "10876"
      ]
     },
     "execution_count": 280,
     "metadata": {},
     "output_type": "execute_result"
    }
   ],
   "source": [
    "len(documents)"
   ]
  },
  {
   "cell_type": "code",
   "execution_count": 281,
   "metadata": {},
   "outputs": [
    {
     "data": {
      "text/html": [
       "<div>\n",
       "<style scoped>\n",
       "    .dataframe tbody tr th:only-of-type {\n",
       "        vertical-align: middle;\n",
       "    }\n",
       "\n",
       "    .dataframe tbody tr th {\n",
       "        vertical-align: top;\n",
       "    }\n",
       "\n",
       "    .dataframe thead th {\n",
       "        text-align: right;\n",
       "    }\n",
       "</style>\n",
       "<table border=\"1\" class=\"dataframe\">\n",
       "  <thead>\n",
       "    <tr style=\"text-align: right;\">\n",
       "      <th></th>\n",
       "      <th>text</th>\n",
       "      <th>target</th>\n",
       "    </tr>\n",
       "  </thead>\n",
       "  <tbody>\n",
       "    <tr>\n",
       "      <th>100</th>\n",
       "      <td>NorwayMFA Bahrain police had previously died in a road accident they were not killed by explosion</td>\n",
       "      <td>1.0</td>\n",
       "    </tr>\n",
       "    <tr>\n",
       "      <th>101</th>\n",
       "      <td>I still have not heard Church Leaders of Kenya coming forward to comment on the accident issue and disciplinary measuresArrestPastorNganga</td>\n",
       "      <td>0.0</td>\n",
       "    </tr>\n",
       "    <tr>\n",
       "      <th>102</th>\n",
       "      <td>afterShockDeLo scuf ps live and the game cya</td>\n",
       "      <td>0.0</td>\n",
       "    </tr>\n",
       "    <tr>\n",
       "      <th>103</th>\n",
       "      <td>The man who can drive himself further once the effort gets painful is the man who will win \\nRoger Bannister</td>\n",
       "      <td>0.0</td>\n",
       "    </tr>\n",
       "    <tr>\n",
       "      <th>104</th>\n",
       "      <td>320 IR ICEMOON AFTERSHOCK    djicemoon  Dubstep TrapMusic DnB EDM Dance IcesÛ</td>\n",
       "      <td>0.0</td>\n",
       "    </tr>\n",
       "    <tr>\n",
       "      <th>105</th>\n",
       "      <td>There is no victory at bargain basement prices Dwight David Eisenhower</td>\n",
       "      <td>0.0</td>\n",
       "    </tr>\n",
       "    <tr>\n",
       "      <th>106</th>\n",
       "      <td>320 IR ICEMOON AFTERSHOCK    djicemoon  Dubstep TrapMusic DnB EDM Dance IcesÛ</td>\n",
       "      <td>0.0</td>\n",
       "    </tr>\n",
       "    <tr>\n",
       "      <th>107</th>\n",
       "      <td>Nobody remembers who came in second Charles Schulz</td>\n",
       "      <td>0.0</td>\n",
       "    </tr>\n",
       "    <tr>\n",
       "      <th>108</th>\n",
       "      <td>afterShockDeLo im speaking from someone that is using a scuf on xb1 most of them people will end up getting on for ps also</td>\n",
       "      <td>0.0</td>\n",
       "    </tr>\n",
       "    <tr>\n",
       "      <th>109</th>\n",
       "      <td>The harder the conflict the more glorious the triumph Thomas Paine</td>\n",
       "      <td>0.0</td>\n",
       "    </tr>\n",
       "  </tbody>\n",
       "</table>\n",
       "</div>"
      ],
      "text/plain": [
       "                                                                                                                                           text  \\\n",
       "100                                          NorwayMFA Bahrain police had previously died in a road accident they were not killed by explosion    \n",
       "101  I still have not heard Church Leaders of Kenya coming forward to comment on the accident issue and disciplinary measuresArrestPastorNganga   \n",
       "102                                                                                                afterShockDeLo scuf ps live and the game cya   \n",
       "103                                The man who can drive himself further once the effort gets painful is the man who will win \\nRoger Bannister   \n",
       "104                                                             320 IR ICEMOON AFTERSHOCK    djicemoon  Dubstep TrapMusic DnB EDM Dance IcesÛ    \n",
       "105                                                                      There is no victory at bargain basement prices Dwight David Eisenhower   \n",
       "106                                                             320 IR ICEMOON AFTERSHOCK    djicemoon  Dubstep TrapMusic DnB EDM Dance IcesÛ    \n",
       "107                                                                                          Nobody remembers who came in second Charles Schulz   \n",
       "108                  afterShockDeLo im speaking from someone that is using a scuf on xb1 most of them people will end up getting on for ps also   \n",
       "109                                                                          The harder the conflict the more glorious the triumph Thomas Paine   \n",
       "\n",
       "     target  \n",
       "100     1.0  \n",
       "101     0.0  \n",
       "102     0.0  \n",
       "103     0.0  \n",
       "104     0.0  \n",
       "105     0.0  \n",
       "106     0.0  \n",
       "107     0.0  \n",
       "108     0.0  \n",
       "109     0.0  "
      ]
     },
     "execution_count": 281,
     "metadata": {},
     "output_type": "execute_result"
    }
   ],
   "source": [
    "df_combined[100:110]"
   ]
  },
  {
   "cell_type": "code",
   "execution_count": 282,
   "metadata": {},
   "outputs": [
    {
     "data": {
      "text/plain": [
       "['norwaymfa bahrain polic had previous die in road accid they were not kill by explos',\n",
       " 'i still have not heard church leader of kenya come forward to comment on the accid issu and disciplinari measuresarrestpastornganga',\n",
       " 'aftershockdelo scuf ps live and the game cya',\n",
       " 'the man who can drive himself further onc the effort get pain is the man who will win roger bannist',\n",
       " '320 ir icemoon aftershock djicemoon dubstep trapmus dnb edm danc ice û',\n",
       " 'there is no victori at bargain basement price dwight david eisenhow',\n",
       " '320 ir icemoon aftershock djicemoon dubstep trapmus dnb edm danc ice û',\n",
       " 'nobodi rememb who came in second charl schulz',\n",
       " 'aftershockdelo im speak from someon that is use scuf on xb1 most of them peopl will end up get on for ps also',\n",
       " 'the harder the conflict the more gloriou the triumph thoma pain']"
      ]
     },
     "execution_count": 282,
     "metadata": {},
     "output_type": "execute_result"
    }
   ],
   "source": [
    "# print 10 rows\n",
    "documents[100:110]"
   ]
  },
  {
   "cell_type": "markdown",
   "metadata": {},
   "source": [
    "## Converting Text to Numbers\n",
    "\n",
    "Machines cannot understand the raw text. Machines can only understand numbers. \n",
    "Statistical techniques including machine learning can only deal with numbers. \n",
    "Therefore, we need to convert our text into numbers.\n",
    "\n",
    "<ul>   \n",
    "   <li><b>max_features:</b> Build a vocabulary that only consider the top max_features ordered by term frequency across the corpus</li>\n",
    "    <li><b>max_df:</b> When building the vocabulary ignore terms that have a document frequency strictly higher than the given threshold.</li>\n",
    "    </ul>"
   ]
  },
  {
   "cell_type": "code",
   "execution_count": 283,
   "metadata": {},
   "outputs": [
    {
     "data": {
      "image/png": "[encoded data removed]",
      "text/plain": [
       "<Figure size 720x720 with 1 Axes>"
      ]
     },
     "metadata": {
      "needs_background": "light"
     },
     "output_type": "display_data"
    }
   ],
   "source": [
    "# Find the document term frequency matrix\n",
    "stopwords = nltk.corpus.stopwords.words('english')\n",
    "\n",
    "# add some more stop words\n",
    "newStopWords = ['http','https', 'co', 'via', 'us','like','one','get','new','û']\n",
    "stopwords.extend(newStopWords)\n",
    "\n",
    "vectorizer = CountVectorizer(max_features=10000,\n",
    "                             analyzer='word',\n",
    "                             max_df=.6,\n",
    "                             stop_words=stopwords)\n",
    "\n",
    "X = vectorizer.fit_transform(documents).toarray()\n",
    "\n",
    "# Get all features (tokens)\n",
    "features = vectorizer.get_feature_names()\n",
    "\n",
    "# we can use yellowbrick package for visualization of top 30 tokens\n",
    "fig, ax = plt.subplots(figsize=(10, 10))\n",
    "visualizer = FreqDistVisualizer(features=features, n=30, orient='h')\n",
    "visualizer.fit(X)\n",
    "visualizer.poof()"
   ]
  },
  {
   "cell_type": "code",
   "execution_count": 285,
   "metadata": {},
   "outputs": [],
   "source": [
    "tfidfconverter = TfidfTransformer()\n",
    "\n",
    "X = tfidfconverter.fit_transform(X).toarray()\n",
    "y = df_tweet['target']\n",
    "\n",
    "#split data into train and test set\n",
    "train_set_X = X[:df_tweet.shape[0]]\n",
    "test_set_X = X[df_tweet.shape[0]:]"
   ]
  },
  {
   "cell_type": "code",
   "execution_count": 286,
   "metadata": {},
   "outputs": [],
   "source": [
    "X_train, X_test, y_train, y_test = train_test_split(train_set_X, y, \n",
    "                                                    test_size=0.3, \n",
    "                                                    random_state=0)"
   ]
  },
  {
   "cell_type": "markdown",
   "metadata": {},
   "source": [
    "### Creating the model"
   ]
  },
  {
   "cell_type": "code",
   "execution_count": null,
   "metadata": {},
   "outputs": [],
   "source": [
    "rfc = RandomForestClassifier(n_estimators=800, \n",
    "                             random_state=42, \n",
    "                             max_features='auto')\n",
    "\n",
    "rfc.fit(X_train, y_train)\n",
    "\n",
    "# predict for testing data\n",
    "y_pred_test = rfc.predict(X_test)\n",
    "\n",
    "# predict for training data\n",
    "y_pred_train = rfc.predict(X_train)"
   ]
  },
  {
   "cell_type": "code",
   "execution_count": 234,
   "metadata": {},
   "outputs": [
    {
     "name": "stdout",
     "output_type": "stream",
     "text": [
      "0.7850262697022767\n",
      "[[1168  170]\n",
      " [ 321  625]]\n",
      "              precision    recall  f1-score   support\n",
      "\n",
      "           0       0.78      0.87      0.83      1338\n",
      "           1       0.79      0.66      0.72       946\n",
      "\n",
      "   micro avg       0.79      0.79      0.79      2284\n",
      "   macro avg       0.79      0.77      0.77      2284\n",
      "weighted avg       0.79      0.79      0.78      2284\n",
      "\n"
     ]
    }
   ],
   "source": [
    "# test\n",
    "print(accuracy_score(y_test, y_pred_test))\n",
    "print(confusion_matrix(y_test,y_pred_test))\n",
    "print(classification_report(y_test,y_pred_test))"
   ]
  },
  {
   "cell_type": "code",
   "execution_count": 235,
   "metadata": {},
   "outputs": [
    {
     "name": "stdout",
     "output_type": "stream",
     "text": [
      "0.9866766747982736\n",
      "[[2987   17]\n",
      " [  54 2271]]\n",
      "              precision    recall  f1-score   support\n",
      "\n",
      "           0       0.98      0.99      0.99      3004\n",
      "           1       0.99      0.98      0.98      2325\n",
      "\n",
      "   micro avg       0.99      0.99      0.99      5329\n",
      "   macro avg       0.99      0.99      0.99      5329\n",
      "weighted avg       0.99      0.99      0.99      5329\n",
      "\n"
     ]
    }
   ],
   "source": [
    "# train\n",
    "print(accuracy_score(y_train, y_pred_train))\n",
    "print(confusion_matrix(y_train,y_pred_train))\n",
    "print(classification_report(y_train,y_pred_train))"
   ]
  },
  {
   "cell_type": "markdown",
   "metadata": {},
   "source": [
    "### Save the Model"
   ]
  },
  {
   "cell_type": "code",
   "execution_count": 236,
   "metadata": {},
   "outputs": [],
   "source": [
    "#The wb indicates that the file is opened for writing in binary mode\n",
    "with open('text_classifier', 'wb') as picklefile:\n",
    "    pickle.dump(rfc,picklefile)"
   ]
  },
  {
   "cell_type": "markdown",
   "metadata": {},
   "source": [
    "### Load the Model"
   ]
  },
  {
   "cell_type": "code",
   "execution_count": 237,
   "metadata": {},
   "outputs": [],
   "source": [
    "#The rb indicates that the file is opened for reading in binary mode\n",
    "with open('text_classifier', 'rb') as training_model:\n",
    "    model = pickle.load(training_model)"
   ]
  },
  {
   "cell_type": "markdown",
   "metadata": {},
   "source": [
    "### Make prediction based on the Loaded model"
   ]
  },
  {
   "cell_type": "code",
   "execution_count": 238,
   "metadata": {},
   "outputs": [
    {
     "name": "stdout",
     "output_type": "stream",
     "text": [
      "[[1168  170]\n",
      " [ 321  625]]\n",
      "              precision    recall  f1-score   support\n",
      "\n",
      "           0       0.78      0.87      0.83      1338\n",
      "           1       0.79      0.66      0.72       946\n",
      "\n",
      "   micro avg       0.79      0.79      0.79      2284\n",
      "   macro avg       0.79      0.77      0.77      2284\n",
      "weighted avg       0.79      0.79      0.78      2284\n",
      "\n",
      "0.7850262697022767\n"
     ]
    }
   ],
   "source": [
    "y_pred_test_2 = model.predict(X_test)\n",
    "\n",
    "print(confusion_matrix(y_test, y_pred_test_2))\n",
    "print(classification_report(y_test, y_pred_test_2))\n",
    "print(accuracy_score(y_test, y_pred_test_2)) "
   ]
  },
  {
   "cell_type": "code",
   "execution_count": 240,
   "metadata": {},
   "outputs": [],
   "source": [
    "sample_sub = pd.read_csv('dataset/sample.csv')"
   ]
  },
  {
   "cell_type": "code",
   "execution_count": 242,
   "metadata": {},
   "outputs": [],
   "source": [
    "y_pred_test_data = model.predict(test_set_X)\n",
    "y_pred_test_data = np.round(y_pred_test_data).astype(int).reshape(3263)\n",
    "\n",
    "sub = pd.DataFrame({'id':sample_sub['id'].values.tolist(),'text':df_test['text'].values.tolist(),'target':y_pred_test_data})\n",
    "sub.to_csv('output.csv',index=False)"
   ]
  },
  {
   "cell_type": "code",
   "execution_count": null,
   "metadata": {},
   "outputs": [],
   "source": []
  },
  {
   "cell_type": "code",
   "execution_count": null,
   "metadata": {},
   "outputs": [],
   "source": []
  }
 ],
 "metadata": {
  "kernelspec": {
   "display_name": "Python 3",
   "language": "python",
   "name": "python3"
  },
  "language_info": {
   "codemirror_mode": {
    "name": "ipython",
    "version": 3
   },
   "file_extension": ".py",
   "mimetype": "text/x-python",
   "name": "python",
   "nbconvert_exporter": "python",
   "pygments_lexer": "ipython3",
   "version": "3.6.8"
  }
 },
 "nbformat": 4,
 "nbformat_minor": 2
}
